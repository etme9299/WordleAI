{
 "cells": [
  {
   "cell_type": "markdown",
   "metadata": {},
   "source": [
    "# CSCI 3202, Spring 2022: Final Coding Project\n",
    "\n",
    "---\n",
    "\n",
    "\n",
    "This is your final programming project for CSCI 3202. It is due on Canvas by **11:59 PM on Saturday April 30**.  Your solutions to theoretical questions should be done in Markdown/LateX directly below the associated question. Your solutions to computational questions should include any relevant Python code, as well as results and any written commentary.\n",
    "\n",
    "You have two options for completing your final project for this course. The first option is presented in this notebook and involves implementing a reinforcement learning algorithm and producing a five-minute video that explains your process of solving this problem. The second option is to design your own project that includes the algorithms we've discussed since the midterm - Bayes Nets, Hidden Markov Models, Markov Decision Processes, or Reinforcement Learning - or an algorithm related to one of these that we haven't discussed in class. Your project also needs to include some kind of analysis of how it performed on a specific problem. If you're interested in the design your own project option, you need to discuss your idea with one of the course instructors to get approval. If you do a project without getting approval, you will receive a 0 regardless of the quality of the project. You will also need to produce a short, five-minute video that explains your project.\n",
    "\n",
    "**The rules:**\n",
    "\n",
    "1. Choose EITHER the given problem to submit OR choose your own project topic. \n",
    "\n",
    "2. If you choose your own project topic, please adhere to the following guidelines:\n",
    "- The project needs to be approved by the course instructors.\n",
    "- The project needs to include one of the algorithms we've discussed since the midterm - Bayes Nets, HMMs, MDPs, or Reinforcement Learning - or an algorithm that we haven't discussed in class. \n",
    "- If you do your own project without prior approval, you will receive a 0 for this project.\n",
    "- Your project code, explanation, and results must all be contained in a Jupyter notebook. \n",
    "\n",
    "3. All work, code and analysis must be **your own**.\n",
    "4. You may use your course notes, posted lecture slides, textbook, in-class notebooks and homework solutions as resources.  You may also search online for answers to general knowledge questions, like the form of a probability distribution function, or how to perform a particular operation in Python. You may not use entire segments of code as solutions to any part of this project, e.g. if you find a Python implementation of policy iteration online, you can't use it.\n",
    "5. You may **not** post to message boards or other online resources asking for help.\n",
    "6. **You may not collaborate with classmates or anyone else.**\n",
    "7. This is meant to be like a coding portion of your final exam. So, we will be much less helpful than we typically am with homework. For example, we will not check answers, help debug your code, and so on.\n",
    "8. If you have a question, post it first as a **private** Piazza message. If we decide that it is appropriate for the entire class, then we will make it a public post (and anonymous).\n",
    "9. If something is left open-ended, it is probably because we intend for you to code it up however you want, and only care about the plots/analysis we see at the end. Feel free to ask clarifying questions though.\n",
    "\n",
    "Violation of these rules will result in an **F** and a trip to the Honor Code council.\n",
    "\n",
    "---\n",
    "**By writing your name below, you agree to abide by these rules:**\n",
    "\n",
    "**Your name:** Ethan Meyer\n",
    "\n",
    "---\n",
    "\n"
   ]
  },
  {
   "cell_type": "code",
   "execution_count": 1,
   "metadata": {},
   "outputs": [],
   "source": [
    "# Importing all necessary libaries\n",
    "import pandas as pd\n",
    "import numpy as np\n",
    "import matplotlib.pyplot as plt"
   ]
  },
  {
   "cell_type": "markdown",
   "metadata": {},
   "source": [
    "<img src=\"images/title.png\">\n",
    "\n",
    "[Link to Project Video](https://youtu.be/aGq7ML_Eusc)"
   ]
  },
  {
   "cell_type": "markdown",
   "metadata": {},
   "source": [
    "\n",
    "\n",
    "# An Entropy-Based Approach to Wordle\n",
    "## 1. Introduction\n",
    "### 1.1 What is Wordle?\n",
    "\n",
    "**Wordle** is a once a day word game offered by the [New York Times](https://www.nytimes.com/games/wordle/index.html) that challenges players to guess a 5 character word within 6 guesses. After each guess, players recieve information on the letters of their guess via the following encoding:\n",
    "\n",
    "<img src=\"images/Explainer.png\" alt=\"Wordle Explainer\" width=\"400\" height=\"500\"/>\n",
    "\n",
    "\n",
    "### 1.2 The Basics of Entropy\n",
    "\n",
    "In the context of Information Theory, the **entropy** of a random variable measures the average level of \"information\", \"surprise\", or \"uncertainty\" inherent to the variable's possible outcomes. The intuition behind quantifying entropy is the idea of balancing how much information an outcome provides with how likely that outcome is to occur. Essentially, rare outcomes provide high information but have a low probability while common outcomes have a high probability but provide little information. Now, we must determine how to quantify these two measures.\n",
    "\n",
    "**Probability:** Trivially, we can quantify the probability of an outcome by simply determining its probability:\n",
    "$$ P =  P(\\text{outcome}) $$\n",
    "\n",
    "**Information:** Intuitively, we know that Information is inversely proportional to probability, that is, when $P(\\text{outcome})$ is close to $0$, the information is high, but if $P(\\text{outcome})$ is close to $1$, the information is low. We describe this by the relationship:\n",
    "$$I = \\log_2(\\frac{1}{P(\\text{outcome})}) $$\n",
    "\n",
    "**Entropy:**\n",
    "And so, we can calculate the entropy of a discrete random variable $X$, having possible outcomes $x_{1},...,x_{n}$, which occur with probability $P(x_{1}),...,P(x_{n}),P(x_{1}),...,P(x_{n})$ as:\n",
    "\n",
    "$$\n",
    "\\begin{align}\n",
    "    H(X) &= \\sum_{i=1}^{n} {P(x_i) \\cdot \\log_2(\\frac{1}{P(x_i)}}) \\\\\n",
    "         &= \\sum_{i=1}^{n} {P(x_i) \\cdot (\\log_2(1) - \\log_2(P(x_i)))} \\\\\n",
    "         &= \\sum_{i=1}^{n} {P(x_i) \\cdot (- \\log_2(P(x_i))} \\\\\n",
    "         &= - \\sum_{i=1}^{n} {P(x_i) \\cdot \\log_2(P(x_i)} \\\\\n",
    "\\end{align}\n",
    "$$"
   ]
  },
  {
   "cell_type": "markdown",
   "metadata": {},
   "source": [
    "### 1.3 Data Sources\n",
    "For this project, I chose to differentiate the data sources between allowable guesses and possible answers. The rationale behind this decision was that I wanted to limit the solution space while giving myself the most options possible in terms of guesses.  \n",
    "\n",
    "**Guess List:** List of 12,953 words allowed as guesses in Wordle.\n",
    "\n",
    "**Answer List:** List of 2,309 words that have been or will be answers to Wordle.\n",
    "\n",
    "**Source:** [GitHub](https://gist.github.com/cfreshman/dec102adb5e60a8299857cbf78f6cf57)"
   ]
  },
  {
   "cell_type": "code",
   "execution_count": 2,
   "metadata": {},
   "outputs": [],
   "source": [
    "guess_list = list(pd.read_csv(\"guess_bank.txt\")[\"Word\"])\n",
    "answer_list = list(pd.read_csv(\"answer_bank.txt\")[\"Word\"])"
   ]
  },
  {
   "cell_type": "markdown",
   "metadata": {},
   "source": [
    "\n"
   ]
  },
  {
   "cell_type": "markdown",
   "metadata": {},
   "source": [
    "## 2. Objectives\n",
    "### 2.1 Wordle Opening Strategy\n",
    "1. Determine the best first word (i.e. word w/ highest entropy)\n",
    "2. For each possible resulting pattern, determine best second word\n",
    "\n",
    "### 2.2 WordleAI\n",
    "Create an AI that has two modes:\n",
    "1. Helper: Interacts with user providing best guesses at each step\n",
    "2. Autonomous: Solves puzzle alone"
   ]
  },
  {
   "cell_type": "markdown",
   "metadata": {},
   "source": [
    "\n"
   ]
  },
  {
   "cell_type": "markdown",
   "metadata": {},
   "source": [
    "## 3. Approach and Implementation\n",
    "\n",
    "<br>\n",
    "\n",
    "### 3.1 Calculating Entropy\n",
    "In the context of Wordle, outcomes are characterized as the resulting pattern following a guess. We can determine the probability of seeing some pattern $p_i$ as \n",
    "\n",
    "$$ P(p_i) = \\frac{\\text{# words w/ Pattern(word)} = p_i}{\\text{Total # of words}}$$\n",
    "\n",
    "Seeing as there are 5 characters each with 3 possible colors ( 🟩, 🟨, or ⬛ ), there are theoretically $3^5 = 243$ possible outcomes (theoretically because patterns like 🟩 🟩 🟩 🟩 🟨 are impossible). And so, we can determine the entropy of some $guess$ having possible outcomes $p_{1},...,p_{243}$ as:\n",
    "\n",
    "$$\n",
    "\\begin{align}\n",
    "    H(guess) &= - \\sum_{i=1}^{243} {P(p_i) \\cdot \\log_2(P(p_i)}) \\\\\n",
    "         &= - \\sum_{i=1}^{243} \\frac{\\text{# words w/ Pattern(word)} = p_i}{\\text{Total # of words}} \\cdot \\log_2(\\frac{\\text{# words w/ Pattern(word)} = p_i}{\\text{Total # of words}}) \\\\\n",
    "\\end{align}\n",
    "$$ "
   ]
  },
  {
   "cell_type": "markdown",
   "metadata": {},
   "source": [
    "**Calculating Pattern Between Words:** This first thing we need for our approach is a function that calculates an output pattern given a guess and target word."
   ]
  },
  {
   "cell_type": "code",
   "execution_count": 1,
   "metadata": {},
   "outputs": [],
   "source": [
    "def calc_pattern(guess_word, target_word):\n",
    "    # INPUTS: \"guess\" and \"target\" words \n",
    "    # OUTPUTS: array containing their resulting pattern\n",
    "    # LEGEND: 0=Gray, 1=Yellow, 2=Green\n",
    "    \n",
    "    num_chars = len(guess_word) # Number of characters in string\n",
    "    pattern = [\"0\"] * num_chars # variable to store result\n",
    "    \n",
    "    for guess_idx in range(num_chars): # Iterate through each of the characters in the string\n",
    "        \n",
    "        if guess_word[guess_idx] == target_word[guess_idx]: # If the letters match and are in the same position\n",
    "            pattern[guess_idx] = \"2\" # Mark pattern as \"Green\"\n",
    "        \n",
    "        else: # Otherwise\n",
    "            for target_idx in range(num_chars):\n",
    "                if (guess_idx != target_idx):\n",
    "                    if (guess_word[guess_idx] == target_word[target_idx]) and (guess_word[target_idx] != target_word[target_idx]): # If letter in word but other position\n",
    "                        pattern[guess_idx] = \"1\" # Mark as yellow\n",
    "                        target_word = target_word[0:target_idx] + '_' + target_word[target_idx + 1:]\n",
    "                        break   \n",
    "        \n",
    "    return pattern\n",
    "\n",
    "# A few test cases\n",
    "assert(calc_pattern(\"words\",\"words\") == [\"2\",\"2\",\"2\",\"2\",\"2\"]) # Strings match -> All greens\n",
    "assert(calc_pattern(\"guess\",\"wordy\") == [\"0\",\"0\",\"0\",\"0\",\"0\"]) # No characters match -> All grays\n",
    "assert(calc_pattern(\"wordy\",\"words\") == [\"2\",\"2\",\"2\",\"2\",\"0\"]) # Last character doesn't match -> 4 Greens, 1 Gray"
   ]
  },
  {
   "cell_type": "markdown",
   "metadata": {},
   "source": [
    "**Calculating All Patterns:** The next thing we will need is a function to determine the resulting patterns we would observe given a guess and answer word for all possible answer words."
   ]
  },
  {
   "cell_type": "code",
   "execution_count": 4,
   "metadata": {},
   "outputs": [],
   "source": [
    "def get_patterns(guess_word, answer_list):\n",
    "    # INPUTS: guess_word and list of all possible answers\n",
    "    # OUTPUTS: returns DataFrame with each possible answer and its resulting pattern given guess_word\n",
    "    \n",
    "    num_words = len(answer_list)\n",
    "    pattern_tracker = [''] * num_words\n",
    "\n",
    "    for word_num, answer_word in enumerate(answer_list): # Iterate through all possible answers\n",
    "        result_array = calc_pattern(guess_word, answer_word) # Determine pattern\n",
    "\n",
    "        result_string = \"\" # Convert array into string\n",
    "\n",
    "        for letter in result_array:\n",
    "            result_string += letter\n",
    "\n",
    "        pattern_tracker[word_num] = result_string    # Store result\n",
    "        \n",
    "    result_df = pd.DataFrame({\"Target\":answer_list, \"Guess\":guess_word,\"Pattern\":pattern_tracker }) # Formatting into DataFrame\n",
    "\n",
    "    return result_df"
   ]
  },
  {
   "cell_type": "markdown",
   "metadata": {},
   "source": [
    "**Determing All Possible Patterns:** Before iterating across all possible patterns, we will need to generate the list containing all possible patterns."
   ]
  },
  {
   "cell_type": "code",
   "execution_count": 5,
   "metadata": {},
   "outputs": [],
   "source": [
    "def create_all_ternary_strings(n, lst = [\"\"]):\n",
    "    # INPUTS: n | # of chars to append remaining, lst | list so far\n",
    "    # OUTPUTS: returns all possible ternary strings (elements are 0,1, or 2) of length n\n",
    "    # LEGEND: 0=Gray, 1=Yellow, 2=Green\n",
    "    # Adapted from similar approach: https://www.geeksforgeeks.org/generate-all-the-binary-strings-of-n-bits/ \n",
    "     \n",
    "    if (n == 0): # Reached base case\n",
    "        return lst # Return set of strings\n",
    "    else:\n",
    "        new_lst = []\n",
    "        for idx in range(len(lst)): #For each string, add a 0, a 1, and a 2 to the end\n",
    "            string = lst[idx] \n",
    "            \n",
    "            string_and_0 = string + \"0\"\n",
    "            string_and_1 = string + \"1\" \n",
    "            string_and_2 = string + \"2\"\n",
    "            \n",
    "            new_lst.append(string_and_0)\n",
    "            new_lst.append(string_and_1)\n",
    "            new_lst.append(string_and_2)\n",
    "\n",
    "        return create_all_ternary_strings(n - 1, new_lst) # Recursive call\n",
    "\n",
    "all_possible_patterns = create_all_ternary_strings(5) # Variable that stores all possible patterns\n",
    "assert(len(all_possible_patterns) == 3**5)"
   ]
  },
  {
   "cell_type": "markdown",
   "metadata": {},
   "source": [
    "**Determining Pattern Distribution:** Now, we will need to write a function that determines the distrbution of resulting patterns given a specific guess."
   ]
  },
  {
   "cell_type": "code",
   "execution_count": 7,
   "metadata": {},
   "outputs": [],
   "source": [
    "def get_entropy(p):\n",
    "    # INPUTS: p\n",
    "    # OUTPUTS: -p * np.log(p)\n",
    "    if p == 0:\n",
    "        return 0\n",
    "    else:\n",
    "        return -p * np.log(p) / np.log(2)\n",
    "\n",
    "def get_pattern_distribution(guess_word, answer_list):\n",
    "    # INPUTS: guess_word and list of all possible answers\n",
    "    # OUTPUTS: returns DataFrame containing each pattern and the count, probability, and entropy of words in answer_list that have that pattern given guess_word\n",
    "    \n",
    "    result_df = get_patterns(guess_word, answer_list) # Determing resulting pattern for each possible answer given guess_word \n",
    "    \n",
    "    num_words = len(answer_list) # Number of words in answer_list\n",
    "    num_possible_patterns = len(all_possible_patterns) # Number of possible patterns\n",
    "\n",
    "    pattern_distribution_counter = np.zeros(num_possible_patterns) # Array to track results\n",
    "    p_tracker = np.empty(num_possible_patterns)\n",
    "    entropy_tracker = np.empty(num_possible_patterns)\n",
    "\n",
    "    for idx, pattern in enumerate(all_possible_patterns):\n",
    "        count = np.sum(result_df[\"Pattern\"] == pattern)\n",
    "        pattern_distribution_counter[idx] = count\n",
    "        p_tracker[idx] = count / num_words\n",
    "        entropy_tracker[idx] = get_entropy(count / num_words)\n",
    "\n",
    "    pattern_distribution = pd.DataFrame({\"Pattern\":all_possible_patterns,\"Count\":pattern_distribution_counter,\"p\":p_tracker,\"Entropy\":entropy_tracker})\n",
    "\n",
    "    return pattern_distribution"
   ]
  },
  {
   "cell_type": "markdown",
   "metadata": {},
   "source": [
    "**Calcuating Entropy:** Finally, we need a function that returns just the value of the entropty given a guess word and answer list."
   ]
  },
  {
   "cell_type": "code",
   "execution_count": 474,
   "metadata": {},
   "outputs": [],
   "source": [
    "def get_entropy_slow(guess_word, answer_list):\n",
    "    # INPUTS: guess word and answer list\n",
    "    # OUTPUTS: Entropy of guess word\n",
    "    \n",
    "    pattern_distribution = get_pattern_distribution(guess_word, answer_list) # Get values by pattern\n",
    "\n",
    "    return np.sum(pattern_distribution[\"Entropy\"]) # Sum across all patterns"
   ]
  },
  {
   "cell_type": "markdown",
   "metadata": {},
   "source": [
    "**Improving Runtime Performance:** Becuase of the number of times we need to calculate the entropy of a word, we will a function that is optimized for performance at the detriment of readability."
   ]
  },
  {
   "cell_type": "code",
   "execution_count": 475,
   "metadata": {},
   "outputs": [],
   "source": [
    "def get_entropy_superfast(guess_word, answer_list):\n",
    "    # 1. For each word in the answer_list, calculate the resulting pattern when \"guess_word\" is guessed\n",
    "    num_words = len(answer_list)\n",
    "    pattern_tracker = [''] * num_words\n",
    "\n",
    "    for word_num, answer_word in enumerate(answer_list): # Iterate through all of the possible answers\n",
    "        result_array = calc_pattern(guess_word, answer_word) # Calculate pattern\n",
    "\n",
    "        result_string = \"\" # Convert to a string\n",
    "        for letter in result_array:\n",
    "            result_string += letter\n",
    "\n",
    "        pattern_tracker[word_num] = result_string  # Store in array\n",
    "    \n",
    "    pattern_tracker = np.array(pattern_tracker)\n",
    "    \n",
    "    # 2. Determine the distribution and entropy of all possible answer words across the possible patterns\n",
    "    _, counts = np.unique(pattern_tracker, return_counts=True)\n",
    "    entropy_total = 0\n",
    "    \n",
    "    for c in counts:\n",
    "        p = c/num_words\n",
    "        entropy_total += -p * (np.log(p) / np.log(2)) # Formula for entropy of an individual pattern\n",
    "        \n",
    "    return entropy_total"
   ]
  },
  {
   "cell_type": "code",
   "execution_count": 484,
   "metadata": {},
   "outputs": [
    {
     "name": "stdout",
     "output_type": "stream",
     "text": [
      "Slow: 4.944202 secs\n",
      "Fast: 0.613153 secs\n",
      "8.064 times faster\n"
     ]
    }
   ],
   "source": [
    "from datetime import datetime\n",
    "import math\n",
    "\n",
    "guess_word = \"crane\"\n",
    "\n",
    "start = datetime.now()\n",
    "for _ in range(50):\n",
    "    e1 = get_entropy_slow(guess_word, answer_list)\n",
    "stop = datetime.now()\n",
    "slow_time = (stop - start).total_seconds()\n",
    "print(\"Slow:\", slow_time, \"secs\")\n",
    "\n",
    "start = datetime.now()\n",
    "for _ in range(50):\n",
    "    e2 = get_entropy_superfast(guess_word, answer_list)\n",
    "stop = datetime.now()\n",
    "fast_time = (stop - start).total_seconds()\n",
    "print(\"Fast:\", fast_time, \"secs\")\n",
    "\n",
    "print(round(slow_time/fast_time, 3),\"times faster\")\n",
    "\n",
    "assert(math.isclose(e1,e2))"
   ]
  },
  {
   "cell_type": "markdown",
   "metadata": {},
   "source": [
    "### 3.2 Wordle Opening Strategy\n",
    "1. **Compute** Entropy for all possible guesses given the original list of possible answers\n",
    "2. **Select** and play guess with highest entropy (i.e. best first guess)\n",
    "3. For each possible resulting pattern, **filter** list of answers based on pattern\n",
    "4. **Compute** Entropy for all possible guesses given list of remaining possible answers\n",
    "5. **Select** guess with highest entropy (i.e. best second guess given pattern)"
   ]
  },
  {
   "cell_type": "markdown",
   "metadata": {},
   "source": [
    "#### 3.2.1 Best First Guess"
   ]
  },
  {
   "cell_type": "code",
   "execution_count": 15,
   "metadata": {},
   "outputs": [],
   "source": [
    "entropy_tracker = np.empty(len(guess_list)) # Array to store results of entropy for each guess\n",
    "\n",
    "for idx, guess_word in enumerate(guess_list): # Iterate through all possible guesses\n",
    "    entropy_val = get_entropy_fast(guess_word, answer_list) # Compute entropy of guess\n",
    "\n",
    "    entropy_tracker[idx] = entropy_val\n",
    "    \n",
    "best_idx = np.argmax(entropy_tracker)\n",
    "best_entropy = entropy_tracker[best_idx]\n",
    "best_first_guess = guess_list[best_idx]"
   ]
  },
  {
   "cell_type": "code",
   "execution_count": 99,
   "metadata": {},
   "outputs": [
    {
     "data": {
      "image/png": "[encoded data removed]",
      "text/plain": [
       "<Figure size 1296x432 with 2 Axes>"
      ]
     },
     "metadata": {
      "needs_background": "light"
     },
     "output_type": "display_data"
    }
   ],
   "source": [
    "fig, ax = plt.subplots(ncols=2, nrows=1, figsize=(18,6))\n",
    "\n",
    "# Histogram of Entropy\n",
    "ax[0].hist(entropy_tracker, bins=25, color=\"#019a01\", edgecolor=\"white\")\n",
    "ax[0].set_title(\"Distribution of Entropy of Guesses\", size=18, fontname=\"Helvetica\", weight=\"bold\")\n",
    "ax[0].set_xlabel(\"Entropy (# of bits)\", size=14, fontname=\"Helvetica\", weight=\"bold\")\n",
    "ax[0].set_ylabel(\"Count\", size=14, fontname=\"Helvetica\", weight=\"bold\")\n",
    "\n",
    "# Top 10 Guesses\n",
    "top_10_idxs = np.argsort(entropy_tracker)[-10:]\n",
    "top_10_entropy = entropy_tracker[top_10_idxs]\n",
    "top_10_guesses = np.array(guess_list)[top_10_idxs]\n",
    "hbars = ax[1].barh(top_10_guesses, top_10_entropy, color=[\"#3a3a3c\"]*9 + ['#019a01'])\n",
    "ax[1].set_title(\"Top 10 Guesses\", size=18, fontname=\"Helvetica\", weight=\"bold\")\n",
    "ax[1].set_xlabel(\"Entropy (# of bits)\", size=14, fontname=\"Helvetica\", weight=\"bold\")\n",
    "ax[1].set_xlim((5,5.9))\n",
    "\n",
    "plt.show()"
   ]
  },
  {
   "cell_type": "markdown",
   "metadata": {},
   "source": [
    "<img src=\"images/Guess_1.png\" alt=\"Best First Guess\" width=\"800\" height=\"100\"/>\n"
   ]
  },
  {
   "cell_type": "markdown",
   "metadata": {},
   "source": [
    "#### 3.2.2 Best Second Guesses\n",
    "After determining the best initial guess, I iterated through each of the possible resulting patterns and found the best second guess given that pattern. Due to the execution time of this section of code (2+ hours), I have not included it in this notebook. However, it is included in this repository under the filename `2nd_guess.py`.\n",
    "\n",
    "After computing all best second guesses, I created a cheat sheet including all the results:\n",
    "\n",
    "\n",
    "<img src=\"images/cheat sheet.svg\">"
   ]
  },
  {
   "cell_type": "markdown",
   "metadata": {},
   "source": [
    "<svg src=\"1.svg\"></svg>"
   ]
  },
  {
   "cell_type": "markdown",
   "metadata": {},
   "source": [
    "### 3.3 Wordle AI\n",
    "1. **Compute** Entropy for all possible guesses given list of answers\n",
    "2. **Select** and play guess with highest entropy\n",
    "3. **Filter** list of answers based on resulting pattern\n",
    "4. **Repeat** until puzzle solved or out of turns"
   ]
  },
  {
   "cell_type": "code",
   "execution_count": 485,
   "metadata": {},
   "outputs": [],
   "source": [
    "class wordle_ai:\n",
    "    def __init__(self, mode, answer_word=None, print_bool=True):\n",
    "        # Reading in data\n",
    "        self.load_data()\n",
    "        \n",
    "        # mode = \"helper\": Human-interactive\n",
    "        # mode = \"autonomous\": AI plays by itself\n",
    "        self.mode = mode\n",
    "        self.answer_word = answer_word\n",
    "        self.print_bool = print_bool\n",
    "\n",
    "        # Instantiating appropriate variables\n",
    "        self.turn_number = 0\n",
    "        self.max_turns = 6\n",
    "        self.game_over = False\n",
    "        self.current_pattern = None\n",
    "        self.pattern_list = []\n",
    "        self.game_result = None\n",
    "\n",
    "        \n",
    "    def load_data(self):\n",
    "        answer_bank = pd.read_csv(\"answer_bank.txt\")\n",
    "        self.answer_list = list(answer_bank[\"Word\"])\n",
    "\n",
    "        guess_bank = pd.read_csv(\"guess_bank.txt\")\n",
    "        self.guess_list = list(guess_bank[\"Word\"])\n",
    "        \n",
    "        self.second_guess_df = pd.read_csv(\"2nd_guess.csv\",dtype=str, index_col=0)\n",
    "\n",
    "    def play_game(self):\n",
    "        while self.game_over == False:\n",
    "            self.turn_number += 1\n",
    "            if self.turn_number > 6:\n",
    "                self.game_over = True\n",
    "                self.game_result = \"Lose\"\n",
    "            else:\n",
    "                self.play_turn()\n",
    "                \n",
    "        if self.print_bool:\n",
    "            self.print_summary()\n",
    "        \n",
    "        return(self.game_result, self.turn_number)\n",
    "    \n",
    "    def play_turn(self):\n",
    "        best_guess = self.get_best_guess() # Get best guess via helper function\n",
    "        \n",
    "        if self.print_bool:\n",
    "            print(\"\\nGuess # \" + str(self.turn_number) +\":\", best_guess)\n",
    "        \n",
    "        if self.mode == \"helper\": # If mode is set to \"helper\"            \n",
    "            print(\"Please enter the resulting pattern via the follwing encoding:\") # Ask user to input resulting pattern\n",
    "            green_sq = \"\\U0001F7E9\"\n",
    "            yellow_sq = \"\\U0001F7E8\"\n",
    "            gray_sq = \"\\U00002B1B\"\n",
    "\n",
    "            print(\"0:\", gray_sq)\n",
    "            print(\"1:\", yellow_sq)\n",
    "            print(\"2:\", green_sq)\n",
    "\n",
    "            self.current_pattern = input()\n",
    "        \n",
    "        elif self.mode == \"autonomous\": # If mode is set to \"autonomous\"\n",
    "            pattern_array = calc_pattern(best_guess, self.answer_word) # Calculate pattern based on given answer_word\n",
    "            \n",
    "            pattern_string = \"\" # Convert to a string\n",
    "            for letter in pattern_array:\n",
    "                pattern_string += letter\n",
    "            \n",
    "            self.current_pattern = pattern_string    \n",
    "\n",
    "        self.handle_pattern(best_guess, self.current_pattern) # Filter possible answers based on current_pattern\n",
    "    \n",
    "    def handle_pattern(self, best_guess, resulting_pattern):\n",
    "        self.pattern_list.append(resulting_pattern) # Append pattern to list\n",
    "        \n",
    "        if resulting_pattern == \"22222\": # All green squares: game is over\n",
    "            self.game_over = True\n",
    "            self.game_result = \"Win\"\n",
    "        \n",
    "        else:\n",
    "            patterns_df = get_patterns(best_guess, self.answer_list) # Get pattern for each possible answer based on best guess\n",
    "            remaining_possible_answers = list(patterns_df[patterns_df[\"Pattern\"] == resulting_pattern][\"Target\"]) # Filter down remaining answers\n",
    "\n",
    "            self.answer_list = remaining_possible_answers\n",
    "    \n",
    "    def get_best_guess(self):\n",
    "        answer_list = self.answer_list\n",
    "\n",
    "        if self.turn_number == 1: # Shortcut for 1st Guess\n",
    "            return \"soare\"\n",
    "        \n",
    "        elif self.turn_number == 2: # Shortcut for 2nd Guess\n",
    "            return list(self.second_guess_df[self.second_guess_df[\"Pattern\"] == self.current_pattern][\"2nd Guess\"])[0]\n",
    "            \n",
    "        else:\n",
    "            entropy_tracker = np.empty(len(guess_list))\n",
    "\n",
    "            for idx, guess_word in enumerate(guess_list): # Iterate through all guesses\n",
    "                entropy_val = get_entropy_superfast(guess_word, answer_list) # Calculate entropy\n",
    "\n",
    "                entropy_tracker[idx] = entropy_val\n",
    "            \n",
    "            best_idx = np.argmax(entropy_tracker) # Choose guess with highest entropy\n",
    "            best_entropy = entropy_tracker[best_idx]\n",
    "            best_guess = guess_list[best_idx]\n",
    "\n",
    "            # Tie Breaking Procedure\n",
    "            if np.sum(entropy_tracker == best_entropy) > 1: # Multiple best guesses... should selectively choose guesses that are also possible answers\n",
    "                candidate_guesses = np.array(guess_list)[entropy_tracker == best_entropy] # Array og guesses that tied for best entropy\n",
    "                \n",
    "                if self.mode == \"helper\":\n",
    "                    choice_of_guesses = [best_guess] # Array to hold all candidate guesses that are possible answers\n",
    "                    \n",
    "                    for guess_word in candidate_guesses: # Iterate through candidates\n",
    "                        if guess_word in self.answer_list and guess_word != best_guess: # If they are a possible answer\n",
    "                            choice_of_guesses.append(guess_word) # Append to choices\n",
    "                    \n",
    "                    if len(choice_of_guesses) > 1: # If we found a candidate guess that is a possible answer\n",
    "                        print(\"\\nMultiple Best Guesses\")\n",
    "                        print(\"Options\", choice_of_guesses)\n",
    "                        print(\"Please enter your choice:\")\n",
    "                        best_guess = input() # Allow user to chose\n",
    "                        assert(best_guess in choice_of_guesses)\n",
    "                    \n",
    "                \n",
    "                elif self.mode == \"autonomous\": # If mode is set to autonomous\n",
    "                    for guess_word in candidate_guesses: # Check to see if any candidate guesses are possible answers\n",
    "                        if guess_word in answer_list:\n",
    "                            return guess_word\n",
    "\n",
    "            return best_guess\n",
    "    \n",
    "    def print_summary(self):\n",
    "        # Prints nicely formatted \"Wordle\"-like summary of game\n",
    "        green_sq = \"\\U0001F7E9\"\n",
    "        yellow_sq = \"\\U0001F7E8\"\n",
    "        gray_sq = \"\\U00002B1B\"\n",
    "\n",
    "        print(\"\\n\")\n",
    "        print(\" WORDLE \")\n",
    "        for string in self.pattern_list:\n",
    "            colored_pattern = string.replace('2', green_sq).replace('1', yellow_sq).replace('0', gray_sq)\n",
    "            print(colored_pattern)\n",
    "        \n",
    "        print(\"You \" + self.game_result + \"!\" )\n",
    "    "
   ]
  },
  {
   "cell_type": "markdown",
   "metadata": {},
   "source": [
    "#### 3.3.1 WordleAI Helper Mode\n",
    "Try out the \"Helper\" mode by going opening a game of [Wordle](https://www.nytimes.com/games/wordle/index.html) and then executing the cell below. "
   ]
  },
  {
   "cell_type": "code",
   "execution_count": 492,
   "metadata": {},
   "outputs": [
    {
     "name": "stdout",
     "output_type": "stream",
     "text": [
      "\n",
      "Guess # 1: soare\n",
      "Please enter the resulting pattern via the follwing encoding:\n",
      "0: ⬛\n",
      "1: 🟨\n",
      "2: 🟩\n",
      "00110\n",
      "\n",
      "Guess # 2: riyal\n",
      "Please enter the resulting pattern via the follwing encoding:\n",
      "0: ⬛\n",
      "1: 🟨\n",
      "2: 🟩\n",
      "10011\n",
      "\n",
      "Multiple Best Guesses\n",
      "Options ['aahed', 'larva']\n",
      "Please enter your choice:\n",
      "larva\n",
      "\n",
      "Guess # 3: larva\n",
      "Please enter the resulting pattern via the follwing encoding:\n",
      "0: ⬛\n",
      "1: 🟨\n",
      "2: 🟩\n",
      "22222\n",
      "\n",
      "\n",
      " WORDLE \n",
      "⬛⬛🟨🟨⬛\n",
      "🟨⬛⬛🟨🟨\n",
      "🟩🟩🟩🟩🟩\n",
      "You Win!\n"
     ]
    },
    {
     "data": {
      "text/plain": [
       "('Win', 3)"
      ]
     },
     "execution_count": 492,
     "metadata": {},
     "output_type": "execute_result"
    }
   ],
   "source": [
    "wordle_bot = wordle_ai(mode = \"helper\")\n",
    "wordle_bot.play_game()"
   ]
  },
  {
   "cell_type": "markdown",
   "metadata": {},
   "source": [
    "#### 3.3.2 Wordle AI Autonomous Mode"
   ]
  },
  {
   "cell_type": "code",
   "execution_count": 494,
   "metadata": {},
   "outputs": [
    {
     "name": "stdout",
     "output_type": "stream",
     "text": [
      "\n",
      "Guess # 1: soare\n",
      "\n",
      "Guess # 2: riyal\n",
      "\n",
      "Guess # 3: larva\n",
      "\n",
      "\n",
      " WORDLE \n",
      "⬛⬛🟨🟨⬛\n",
      "🟨⬛⬛🟨🟨\n",
      "🟩🟩🟩🟩🟩\n",
      "You Win!\n"
     ]
    },
    {
     "data": {
      "text/plain": [
       "('Win', 3)"
      ]
     },
     "execution_count": 494,
     "metadata": {},
     "output_type": "execute_result"
    }
   ],
   "source": [
    "autonomous_ai = wordle_ai(mode = \"autonomous\", answer_word = \"larva\")\n",
    "autonomous_ai.play_game()"
   ]
  },
  {
   "cell_type": "markdown",
   "metadata": {},
   "source": [
    "\n"
   ]
  },
  {
   "cell_type": "markdown",
   "metadata": {},
   "source": [
    "## 4. Testing and Results\n",
    "\n",
    "### 4.1 WordleAI Standalone Performance\n",
    "\n",
    "To test the overall performance of my AI, I tested it with every single answer in the dataset and recorded the results which are displayed below."
   ]
  },
  {
   "cell_type": "code",
   "execution_count": null,
   "metadata": {},
   "outputs": [],
   "source": [
    "num_trials = len(answer_list) # Number of answers in list\n",
    "\n",
    "result_tracker = [''] * num_trials # Arrays to track stats of games\n",
    "num_turns_tracker = np.empty(num_trials)\n",
    "\n",
    "for idx, answer_word in enumerate(answer_list):\n",
    "    wordle_bot = wordle_ai(mode = \"autonomous\", answer_word = answer_word, print_bool=False) # Instantiate AI\n",
    "    result, num_turns = wordle_bot.play_game() # Play game\n",
    "    \n",
    "    result_tracker[idx] = result # Record results\n",
    "    num_turns_tracker[idx] = num_turns\n",
    "\n",
    "ai_performance_df = pd.DataFrame({\"Answer\":answer_list,\"Result\":result_tracker,\"# Turns\":num_turns_tracker})"
   ]
  },
  {
   "cell_type": "code",
   "execution_count": 383,
   "metadata": {},
   "outputs": [
    {
     "data": {
      "image/png": "[encoded data removed]",
      "text/plain": [
       "<Figure size 1296x432 with 2 Axes>"
      ]
     },
     "metadata": {
      "needs_background": "light"
     },
     "output_type": "display_data"
    }
   ],
   "source": [
    "fig, ax = plt.subplots(ncols=2, nrows=1, figsize=(18,6))\n",
    "import matplotlib.ticker as mtick\n",
    "\n",
    "# Histogram of # of Guesses\n",
    "ax[0].hist(ai_performance_df[\"# Turns\"], bins=[1,2,3,4,5,6,7], align=\"left\", color=\"#019a01\", edgecolor=\"white\")\n",
    "ax[0].set_title(\"Distribution of # of Guesses\", size=18, fontname=\"Helvetica\", weight=\"bold\")\n",
    "ax[0].set_xlabel(\"# of Guesses\", size=14, fontname=\"Helvetica\", weight=\"bold\")\n",
    "ax[0].set_ylabel(\"Count\", size=14, fontname=\"Helvetica\", weight=\"bold\")\n",
    "ax[0].text(1.07, 1200, \"Mean = 3.46\", ha=\"center\", va=\"center\", size=15,bbox=dict(boxstyle=\"square,pad=0.3\", fc=\"lightgray\", ec=\"#019a01\", lw=2))\n",
    "\n",
    "# Win/Loss Breakdown\n",
    "win_pct = 100 * np.sum(ai_performance_df[\"Result\"] == \"Win\") / num_trials\n",
    "loss_pct = 100 * np.sum(ai_performance_df[\"Result\"] == \"Lose\") / num_trials\n",
    "ax[1].bar([\"Win %\",\"Loss %\"],[win_pct, loss_pct], color = ['#019a01',\"#3a3a3c\"])\n",
    "\n",
    "ax[1].set_title(\"Win/Loss Breakdown\", size=18, fontname=\"Helvetica\", weight=\"bold\")\n",
    "ax[1].yaxis.set_major_formatter(mtick.PercentFormatter())\n",
    "\n",
    "plt.show()"
   ]
  },
  {
   "cell_type": "markdown",
   "metadata": {},
   "source": [
    "### 4.2 WordleAI Relative Performance\n",
    "As a last measure, I wanted to see how my AI performed relative to human players. Thankfully, I discovered [WordleStats](https://twitter.com/WordleStats), an automated Twitter account that posts daily statistics on Wordle games. And so, I scraped the data from the last 50 days worth of games, and visualized how WordleAI performs relative to humans. "
   ]
  },
  {
   "cell_type": "code",
   "execution_count": 403,
   "metadata": {},
   "outputs": [],
   "source": [
    "human_data = pd.read_csv(\"human_scores.csv\")\n",
    "test_answer_words = list(human_data[\"Answer\"])\n",
    "\n",
    "num_trials = len(test_answer_words) # Number of answers in list\n",
    "\n",
    "result_tracker = [''] * num_trials # Arrays to track stats of games\n",
    "num_turns_tracker = np.empty(num_trials)\n",
    "\n",
    "for idx, answer_word in enumerate(test_answer_words):\n",
    "    wordle_bot = wordle_ai(mode = \"autonomous\", answer_word = answer_word, print_bool=False) # Instantiate AI\n",
    "    result, num_turns = wordle_bot.play_game() # Play game\n",
    "    \n",
    "    result_tracker[idx] = result # Record results\n",
    "    num_turns_tracker[idx] = num_turns"
   ]
  },
  {
   "cell_type": "code",
   "execution_count": 473,
   "metadata": {},
   "outputs": [
    {
     "name": "stderr",
     "output_type": "stream",
     "text": [
      "/var/folders/fm/kvyzn4_n7bsb1lc6yth8gqh00000gn/T/ipykernel_79890/1667936442.py:15: UserWarning: FixedFormatter should only be used together with FixedLocator\n",
      "  ax[1].set_xticklabels(test_answer_words,rotation = 45);\n"
     ]
    },
    {
     "data": {
      "image/png": "[encoded data removed]",
      "text/plain": [
       "<Figure size 1296x1152 with 2 Axes>"
      ]
     },
     "metadata": {
      "needs_background": "light"
     },
     "output_type": "display_data"
    }
   ],
   "source": [
    "fig, ax = plt.subplots(ncols=1, nrows=2, figsize=(18,16))\n",
    "\n",
    "# Human vs AI # guesses distribution\n",
    "human_score_dist = list(human_data.iloc[:, 1:7].mean(axis=0)/100)\n",
    "ax[0].hist(num_turns_tracker, bins=[1,2,3,4,5,6,7], align=\"left\", color=\"#019a01\", edgecolor=\"white\", density=True, label=\"WordleAI\")\n",
    "ax[0].plot([1,2,3,4,5,6],human_score_dist, color = \"#3a3a3c\", label=\"Human Players\", linewidth=3)\n",
    "ax[0].set_title(\"Density Histogram of # of Guesses\", size=18, fontname=\"Helvetica\", weight=\"bold\")\n",
    "ax[0].set_xlabel(\"# of Guesses\", size=14, fontname=\"Helvetica\", weight=\"bold\")\n",
    "ax[0].set_ylabel(\"% of Games\", size=14, fontname=\"Helvetica\", weight=\"bold\")\n",
    "ax[0].legend(prop={'size': 15})\n",
    "\n",
    "# Human vs AI # guesses by game\n",
    "ax[1].bar(test_answer_words,num_turns_tracker, color=\"#019a01\",label=\"WordleAI\")\n",
    "ax[1].plot(human_data[\"Avg # Guesses\"], color=\"#3a3a3c\",label=\"Human Players\")\n",
    "ax[1].set_xticklabels(test_answer_words,rotation = 45);\n",
    "ax[1].set_title(\"# of Guesses by Word\", size=18, fontname=\"Helvetica\", weight=\"bold\")\n",
    "ax[1].set_ylabel(\"# of Guesses\", size=14, fontname=\"Helvetica\", weight=\"bold\")\n",
    "ax[1].legend(prop={'size': 15})\n",
    "\n",
    "plt.show()"
   ]
  },
  {
   "cell_type": "markdown",
   "metadata": {},
   "source": [
    "# Conclusion"
   ]
  },
  {
   "cell_type": "markdown",
   "metadata": {},
   "source": [
    "**Notes**\n",
    "- Successful in both objectives \n",
    "    - Opening Strategy & Wordle AI\n",
    "- Entropy-Based approach is clearly effective in outplaying humans\n",
    "- Possible performance improvements exist\n",
    "\n",
    "**Future Work**\n",
    "- Tuning aggressiveness of guess selection\n",
    "- Increasing depth of entropy search"
   ]
  },
  {
   "cell_type": "markdown",
   "metadata": {},
   "source": [
    "# References\n",
    "- Wordle: New York Times, Josh Wardle\n",
    "- Inspiration: 3blue1brown, Diego Unzueta\n",
    "- Info on Entropy: Wikipedia,  Jason Brownlee\n",
    "- Wordle User Data: WordleStats\n",
    "- Wordle Guess and Answer Lists: Cyrus Freshman"
   ]
  }
 ],
 "metadata": {
  "kernelspec": {
   "display_name": "Python 3 (ipykernel)",
   "language": "python",
   "name": "python3"
  },
  "language_info": {
   "codemirror_mode": {
    "name": "ipython",
    "version": 3
   },
   "file_extension": ".py",
   "mimetype": "text/x-python",
   "name": "python",
   "nbconvert_exporter": "python",
   "pygments_lexer": "ipython3",
   "version": "3.9.6"
  }
 },
 "nbformat": 4,
 "nbformat_minor": 2
}
